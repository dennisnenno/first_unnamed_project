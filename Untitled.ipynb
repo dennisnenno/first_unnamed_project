{
 "cells": [
  {
   "cell_type": "code",
   "execution_count": 1,
   "metadata": {
    "collapsed": false
   },
   "outputs": [],
   "source": [
    "from PIL import Image\n",
    "from pytesseract import *"
   ]
  },
  {
   "cell_type": "code",
   "execution_count": 2,
   "metadata": {
    "collapsed": true
   },
   "outputs": [],
   "source": [
    "test_file = 'IMG_3265.PNG'\n",
    "test_handler = Image.open(test_file)"
   ]
  },
  {
   "cell_type": "code",
   "execution_count": 4,
   "metadata": {
    "collapsed": false
   },
   "outputs": [],
   "source": [
    "text = image_to_string(test_handler)"
   ]
  },
  {
   "cell_type": "code",
   "execution_count": 5,
   "metadata": {
    "collapsed": false
   },
   "outputs": [
    {
     "name": "stdout",
     "output_type": "stream",
     "text": [
      ".. T-Mobile <9 16:47 @ 67% - 1\n",
      "< @ Dominik Linzner CJG %\n",
      "\n",
      "lch respektiere dein Revier\n",
      "\n",
      "Ist auch besser so\n",
      "4. Feb. 2016\n",
      "\n",
      "Wie kommt ihr zu Annabelle?\n",
      "\n",
      "Noch platz in svenjas auto?\n",
      "Hi\n",
      "Klar\n",
      "Wir fahren in 15mkn Ios\n",
      "\n",
      "10. Feb. 2016\n",
      "\n",
      "Um 12 essen?\n",
      "\n",
      "Okidoki\n",
      "29. Mérz 2016\n",
      "Seid ihr schon essen?\n",
      "Bzw wann geht ihr?\n",
      "Wo seid ihr?\n",
      "Im BUro!\n",
      "\n",
      "Chef kommt heute nicht, halligalli\n",
      "\n",
      "lch dachte atrium”? :F\n",
      "\n",
      "+ Q\n"
     ]
    }
   ],
   "source": [
    "print(text)"
   ]
  },
  {
   "cell_type": "code",
   "execution_count": 7,
   "metadata": {
    "collapsed": false
   },
   "outputs": [
    {
     "name": "stdout",
     "output_type": "stream",
     "text": [
      ".. T-Mobile <9 16:47 @ 67% - 1\n",
      "< @ Dominik Linzner CJG %\n",
      "\n",
      "lch respektiere dein Revier\n",
      "\n",
      "Ist auch besser so\n",
      "4. Feb. 2016\n",
      "\n",
      "Wie kommt ihr zu Annabelle?\n",
      "\n",
      "Noch platz in svenjas auto?\n",
      "Hi\n",
      "Klar\n",
      "Wir fahren in 15mkn Ios\n",
      "\n",
      "10. Feb. 2016\n",
      "\n",
      "Um 12 essen?\n",
      "\n",
      "Okidoki\n",
      "29. Mérz 2016\n",
      "Seid ihr schon essen?\n",
      "Bzw wann geht ihr?\n",
      "Wo seid ihr?\n",
      "Im BUro!\n",
      "\n",
      "Chef kommt heute nicht, halligalli\n",
      "\n",
      "lch dachte atrium”? :F\n",
      "\n",
      "+ Q\n"
     ]
    }
   ],
   "source": [
    "print(pytesseract.image_to_string(Image.open(test_file), lang='eng'))"
   ]
  },
  {
   "cell_type": "code",
   "execution_count": null,
   "metadata": {
    "collapsed": true
   },
   "outputs": [],
   "source": []
  }
 ],
 "metadata": {
  "anaconda-cloud": {},
  "kernelspec": {
   "display_name": "Python [default]",
   "language": "python",
   "name": "python3"
  },
  "language_info": {
   "codemirror_mode": {
    "name": "ipython",
    "version": 3
   },
   "file_extension": ".py",
   "mimetype": "text/x-python",
   "name": "python",
   "nbconvert_exporter": "python",
   "pygments_lexer": "ipython3",
   "version": "3.5.2"
  }
 },
 "nbformat": 4,
 "nbformat_minor": 1
}
